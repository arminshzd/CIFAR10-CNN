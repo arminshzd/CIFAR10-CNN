{
  "nbformat": 4,
  "nbformat_minor": 0,
  "metadata": {
    "colab": {
      "provenance": []
    },
    "kernelspec": {
      "name": "python3",
      "display_name": "Python 3"
    },
    "language_info": {
      "name": "python"
    },
    "gpuClass": "standard"
  },
  "cells": [
    {
      "cell_type": "markdown",
      "source": [
        "# CIFAR10_CNN\n",
        "An explatory notebook for training deep convolutional neural networks on the [CIFAR10 dataset](https://www.cs.toronto.edu/~kriz/cifar.html) to achieve a 90\\%< accuracy. Multiple image augementation techniques, learning rate curves, and architectures are tested."
      ],
      "metadata": {
        "id": "bgvbhB9ys5TM"
      }
    },
    {
      "cell_type": "markdown",
      "source": [
        "## Imports"
      ],
      "metadata": {
        "id": "aW1IHUrBuFJK"
      }
    },
    {
      "cell_type": "code",
      "execution_count": null,
      "metadata": {
        "id": "9QiYoJbHj-h7"
      },
      "outputs": [],
      "source": [
        "import tensorflow as tf\n",
        "import tensorflow_datasets as tfds\n",
        "import matplotlib.pyplot as plt"
      ]
    },
    {
      "cell_type": "markdown",
      "source": [
        "## Model Parameters"
      ],
      "metadata": {
        "id": "SEUpxXH1uHoJ"
      }
    },
    {
      "cell_type": "code",
      "source": [
        "AUTOTUNE = tf.data.AUTOTUNE\n",
        "BATCH_SIZE = 128\n",
        "LEARNING_RATE = 80 ## This is used as LEARNING_RATE/BATCH_SIZE for a custom learning rate curve with SGD optmizer\n",
        "WARMUP =  10 ## number of epochs for the warmup phase\n",
        "WEIGHT_DECAY = 0.000125 ## SGD weight decay\n",
        "EPOCHS = 35"
      ],
      "metadata": {
        "id": "Yd6jnqcnejh2"
      },
      "execution_count": null,
      "outputs": []
    },
    {
      "cell_type": "markdown",
      "source": [
        "## Load Dataset"
      ],
      "metadata": {
        "id": "p3A2oz2Wue0w"
      }
    },
    {
      "cell_type": "code",
      "source": [
        "ds_train = tfds.load('cifar10', split='train', shuffle_files=True, as_supervised=True)\n",
        "n_train = ds_train.cardinality().numpy() ## Total number of training images\n",
        "ds_test = tfds.load('cifar10', split='test', as_supervised=True)\n",
        "\n",
        "for image, label in ds_train:\n",
        "  IMG_SHAPE = image.shape ## Set the image shape\n",
        "  break"
      ],
      "metadata": {
        "id": "_uPekqDHkLDV"
      },
      "execution_count": null,
      "outputs": []
    },
    {
      "cell_type": "markdown",
      "source": [
        "## Preprocessing and Augmentation\n",
        "All the images are cast to `float32` data type and rescaled to 0 to 1 scale using `resize_rescale`.\n",
        "Implementations of `ReflectionPadding2D` and `masking` are also in this cell. These are used for data augmentation later on."
      ],
      "metadata": {
        "id": "0LUV1YRzupiM"
      }
    },
    {
      "cell_type": "code",
      "source": [
        "def resize_rescale(image):\n",
        "    image = tf.cast(image, dtype=tf.float32)\n",
        "    return image/255.\n",
        "\n",
        "class ReflectionPadding2D(tf.keras.layers.Layer):\n",
        "  def __init__(self, pad=(1, 1)):\n",
        "    super(ReflectionPadding2D, self).__init__()\n",
        "    self.pad = pad\n",
        "\n",
        "  def __call__(self, x):\n",
        "    w_pad,h_pad = self.pad\n",
        "    return tf.pad(x, [[h_pad,h_pad], [w_pad,w_pad], [0,0]], mode='REFLECT')\n",
        "\n",
        "  \n",
        "def replace_slice(orig, replacement, begin):\n",
        "  inp_shape = tf.shape(orig) \n",
        "  rep_size = tf.shape(replacement)\n",
        "  padding = tf.stack([tf.squeeze(begin), tf.squeeze((inp_shape - (begin + rep_size)))], axis=1)\n",
        "  replacement_pad = tf.pad(replacement, padding) \n",
        "  mask = tf.pad(tf.ones_like(replacement, dtype=tf.bool), padding)\n",
        "  return tf.where(mask, replacement_pad, orig)\n",
        "  \n",
        "def masking(x, mask=(1, 1)):\n",
        "  w_mask,h_mask = mask\n",
        "  x = tf.expand_dims(x, 0)\n",
        "  shape = tf.shape(x)\n",
        "  x0 = tf.random.uniform([shape[0],], 0, shape[1] + 1 - h_mask, dtype=tf.int32)\n",
        "  y0 = tf.random.uniform([shape[0],], 0, shape[2] + 1 - w_mask, dtype=tf.int32)\n",
        "  begin = tf.pad(tf.stack([x0, y0], axis=1), [[0, 0], [1, 1]])\n",
        "  x = replace_slice(x, tf.zeros([shape[0], h_mask, w_mask, shape[-1]], dtype=tf.float32), begin)\n",
        "  return x[0]"
      ],
      "metadata": {
        "id": "TEBLDpmLeEGf"
      },
      "execution_count": null,
      "outputs": []
    },
    {
      "cell_type": "markdown",
      "source": [
        "The function to be called on the training dataset:\n",
        "1. Resize and normalize\n",
        "2. Shuffle the training data\n",
        "3. Augmentations:\n",
        "  1. Reflection padding to prepare for random cropping\n",
        "  2. Random cropping\n",
        "  3. Random flipping (only horizontal)\n",
        "  4. Random cutouts: Randomly cutout an 8x8 section of the image\n",
        "4. Batch the dataset"
      ],
      "metadata": {
        "id": "buKfmEAS8j1h"
      }
    },
    {
      "cell_type": "code",
      "source": [
        "def prepare_data(data, shuffle=False, augment=False):\n",
        "    # resize and normalize\n",
        "    data = data.map(lambda x, y: (resize_rescale(x), y), num_parallel_calls=AUTOTUNE)\n",
        "\n",
        "    #shuffle\n",
        "    if shuffle:\n",
        "      data = data.shuffle(BATCH_SIZE)\n",
        "\n",
        "    #augment\n",
        "    augments  = tf.keras.Sequential([\n",
        "               ReflectionPadding2D((4, 4)),\n",
        "               tf.keras.layers.RandomCrop(IMG_SHAPE[0], IMG_SHAPE[1], IMG_SHAPE[2]),\n",
        "               tf.keras.layers.RandomFlip(\"horizontal\"),\n",
        "               ])\n",
        "    if augment:\n",
        "      data = data.map(lambda x, y: (augments(x, training=True), y), \n",
        "                num_parallel_calls=AUTOTUNE)\n",
        "      data = data.map(lambda x, y: (masking(x, mask=(8, 8)), y), \n",
        "                num_parallel_calls=AUTOTUNE)\n",
        "      \n",
        "    return data.batch(BATCH_SIZE).prefetch(buffer_size=AUTOTUNE)"
      ],
      "metadata": {
        "id": "TFiNJA3RvYKu"
      },
      "execution_count": null,
      "outputs": []
    },
    {
      "cell_type": "markdown",
      "source": [
        "## Create the (augmented) train and test datasets"
      ],
      "metadata": {
        "id": "FNO0sZvF9hYd"
      }
    },
    {
      "cell_type": "code",
      "source": [
        "ds_train = prepare_data(ds_train, shuffle=True, augment=True)\n",
        "\n",
        "ds_test = prepare_data(ds_test, shuffle=False, augment=False)"
      ],
      "metadata": {
        "id": "sLAi-_5IwjVT"
      },
      "execution_count": null,
      "outputs": []
    },
    {
      "cell_type": "markdown",
      "source": [
        "## Visualize a training set data point"
      ],
      "metadata": {
        "id": "yv0J0ISf-OuK"
      }
    },
    {
      "cell_type": "code",
      "source": [
        "for image, label in ds_train:\n",
        "  print(label[0])\n",
        "  plt.imshow(image[1])\n",
        "  break"
      ],
      "metadata": {
        "colab": {
          "base_uri": "https://localhost:8080/",
          "height": 283
        },
        "id": "wgluZzJTl5Sw",
        "outputId": "5408dc28-9aa0-49d6-97bf-15fe0af67e9f"
      },
      "execution_count": null,
      "outputs": [
        {
          "output_type": "stream",
          "name": "stdout",
          "text": [
            "tf.Tensor(7, shape=(), dtype=int64)\n"
          ]
        },
        {
          "output_type": "display_data",
          "data": {
            "text/plain": [
              "<Figure size 432x288 with 1 Axes>"
            ],
            "image/png": "[encoded data removed]"
          },
          "metadata": {
            "needs_background": "light"
          }
        }
      ]
    },
    {
      "cell_type": "markdown",
      "source": [
        "## Define steps per epoch and total __training__ steps"
      ],
      "metadata": {
        "id": "ST5MQWKq-QQH"
      }
    },
    {
      "cell_type": "code",
      "source": [
        "steps_per_epoch = n_train // BATCH_SIZE\n",
        "total_steps = steps_per_epoch * EPOCHS"
      ],
      "metadata": {
        "id": "InRA8lIr9Tbu"
      },
      "execution_count": null,
      "outputs": []
    },
    {
      "cell_type": "markdown",
      "source": [
        "## First network\n",
        "A straight forward CNN with 4 blocks of convolutions and maxpooling. `Dropout` units are also added to prevent overfitting. The head unit is a 128 unit dense layer followed by a 10-unit output."
      ],
      "metadata": {
        "id": "iefmgUPD-ZJi"
      }
    },
    {
      "cell_type": "code",
      "source": [
        "class CIFAR_CNN(tf.keras.Model):\n",
        "  def __init__(self):\n",
        "    super(CIFAR_CNN, self).__init__()\n",
        "    self.c1 = tf.keras.layers.Conv2D(filters=32, kernel_size=3, strides=1, padding='same', activation='elu', kernel_regularizer=tf.keras.regularizers.l2(1e-4))\n",
        "    self.bn1 = tf.keras.layers.BatchNormalization()\n",
        "    self.c2 = tf.keras.layers.Conv2D(filters=32, kernel_size=3, strides=1, padding='same', activation='elu', kernel_regularizer=tf.keras.regularizers.l2(1e-4))\n",
        "    self.bn2 = tf.keras.layers.BatchNormalization()\n",
        "    self.mp1 = tf.keras.layers.MaxPooling2D(pool_size=2)\n",
        "    self.d1 = tf.keras.layers.Dropout(0.2)\n",
        "\n",
        "    self.c3 = tf.keras.layers.Conv2D(filters=64, kernel_size=3, strides=1, padding='same', activation='elu', kernel_regularizer=tf.keras.regularizers.l2(1e-4))\n",
        "    self.bn3 = tf.keras.layers.BatchNormalization()\n",
        "    self.c4 = tf.keras.layers.Conv2D(filters=64, kernel_size=3, strides=1, padding='same', activation='elu', kernel_regularizer=tf.keras.regularizers.l2(1e-4))\n",
        "    self.bn4 = tf.keras.layers.BatchNormalization()\n",
        "    self.mp2 = tf.keras.layers.MaxPooling2D(pool_size=2)\n",
        "    self.d2 = tf.keras.layers.Dropout(0.3)\n",
        "\n",
        "    self.c5 = tf.keras.layers.Conv2D(filters=128, kernel_size=3, strides=1, padding='same', activation='elu', kernel_regularizer=tf.keras.regularizers.l2(1e-4))\n",
        "    self.bn5 = tf.keras.layers.BatchNormalization()\n",
        "    self.c6 = tf.keras.layers.Conv2D(filters=128, kernel_size=3, strides=1, padding='same', activation='elu', kernel_regularizer=tf.keras.regularizers.l2(1e-4))\n",
        "    self.bn6 = tf.keras.layers.BatchNormalization()\n",
        "    self.mp3 = tf.keras.layers.MaxPooling2D(pool_size=2)\n",
        "    self.d3 = tf.keras.layers.Dropout(0.4)\n",
        "\n",
        "    self.c7 = tf.keras.layers.Conv2D(filters=256, kernel_size=3, strides=1, padding='same', activation='elu', kernel_regularizer=tf.keras.regularizers.l2(1e-4))\n",
        "    self.bn7 = tf.keras.layers.BatchNormalization()\n",
        "    self.c8 = tf.keras.layers.Conv2D(filters=256, kernel_size=3, strides=1, padding='same', activation='elu', kernel_regularizer=tf.keras.regularizers.l2(1e-4))\n",
        "    self.bn8 = tf.keras.layers.BatchNormalization()\n",
        "    self.mp4 = tf.keras.layers.MaxPooling2D(pool_size=2)\n",
        "    self.d4 = tf.keras.layers.Dropout(0.5)\n",
        "\n",
        "    self.flat = tf.keras.layers.Flatten()\n",
        "    self.nn1 = tf.keras.layers.Dense(units=128, activation='relu')\n",
        "    self.d4 = tf.keras.layers.Dropout(0.5)\n",
        "    self.output_ = tf.keras.layers.Dense(10, activation='softmax')\n",
        "\n",
        "    self.model = None\n",
        "    self.history = None\n",
        "  \n",
        "  def call(self, input_):\n",
        "    x = self.c1(input_)\n",
        "    x = self.bn1(x)\n",
        "    x = self.c2(x)\n",
        "    x = self.bn2(x)\n",
        "    x = self.mp1(x)\n",
        "    x = self.d1(x)\n",
        "\n",
        "    x = self.c3(x)\n",
        "    x = self.bn3(x)\n",
        "    x = self.c4(x)\n",
        "    x = self.bn4(x)\n",
        "    x = self.mp2(x)\n",
        "    x = self.d2(x)\n",
        "\n",
        "    x = self.c5(x)\n",
        "    x = self.bn5(x)\n",
        "    x = self.c6(x)\n",
        "    x = self.bn6(x)\n",
        "    x = self.mp3(x)\n",
        "    x = self.d3(x)\n",
        "\n",
        "    x = self.c7(x)\n",
        "    x = self.bn7(x)\n",
        "    x = self.c8(x)\n",
        "    x = self.bn8(x)\n",
        "    x = self.mp4(x)\n",
        "    x = self.d4(x)\n",
        "\n",
        "    x = self.flat(x)\n",
        "    x = self.nn1(x)\n",
        "    x = self.d4(x)\n",
        "    x = self.output_(x)\n",
        "    return x"
      ],
      "metadata": {
        "id": "NzrNjQMgmeZ7"
      },
      "execution_count": null,
      "outputs": []
    },
    {
      "cell_type": "markdown",
      "source": [
        "## Learning rate scheduler\n",
        "A simple linear decay for the learning rate with a linear increase for the warmup period. Warmup prevents early over-fitting caused by clustered input images."
      ],
      "metadata": {
        "id": "lPJRhBdTA-08"
      }
    },
    {
      "cell_type": "code",
      "source": [
        "class MyScheduler(tf.keras.optimizers.schedules.LearningRateSchedule):\n",
        "\n",
        "  def __init__(self):\n",
        "    self.initial_learning_rate = 0.01\n",
        "\n",
        "  def __call__(self, step):\n",
        "    warmup_steps = steps_per_epoch * WARMUP\n",
        "    is_warmup = tf.cast(step < warmup_steps, tf.float32)\n",
        "    decay_lr = tf.keras.optimizers.schedules.PolynomialDecay(self.initial_learning_rate, (total_steps-(steps_per_epoch * WARMUP)), end_learning_rate=0.0, power=1, cycle=False)(step-(steps_per_epoch * WARMUP))\n",
        "    warmup_lr = self.initial_learning_rate * step / warmup_steps\n",
        "    return (1.0 - is_warmup) * decay_lr + is_warmup * warmup_lr"
      ],
      "metadata": {
        "id": "tk6K_5CU84sY"
      },
      "execution_count": null,
      "outputs": []
    },
    {
      "cell_type": "markdown",
      "source": [
        "Plot of the learning rate curve"
      ],
      "metadata": {
        "id": "lztd_x7UBGXQ"
      }
    },
    {
      "cell_type": "code",
      "source": [
        "xs = list(range(total_steps))\n",
        "ys = [MyScheduler()(i) for i in xs]\n",
        "plt.plot(xs, ys)"
      ],
      "metadata": {
        "colab": {
          "base_uri": "https://localhost:8080/",
          "height": 282
        },
        "id": "3wuJVpXu9JX-",
        "outputId": "eb1a3b3e-4dfa-4f78-93c8-067c1fa9cb5e"
      },
      "execution_count": null,
      "outputs": [
        {
          "output_type": "execute_result",
          "data": {
            "text/plain": [
              "[<matplotlib.lines.Line2D at 0x7f479a517f10>]"
            ]
          },
          "metadata": {},
          "execution_count": 64
        },
        {
          "output_type": "display_data",
          "data": {
            "text/plain": [
              "<Figure size 432x288 with 1 Axes>"
            ],
            "image/png": "[encoded data removed]"
          },
          "metadata": {
            "needs_background": "light"
          }
        }
      ]
    },
    {
      "cell_type": "markdown",
      "source": [
        "## Define the model, optimizer, and the losses\n",
        "Using an `Adam` optimizer with the scheduler defined above. The loss is a sparse categorical crossentropy."
      ],
      "metadata": {
        "id": "rEta_QEDBcT5"
      }
    },
    {
      "cell_type": "code",
      "source": [
        "model = CIFAR_CNN()\n",
        "for test_data in ds_train:\n",
        "  images, labels = test_data\n",
        "  run_through = model(images[0:1])\n",
        "  break\n",
        "optim = tf.keras.optimizers.Adam(learning_rate=MyScheduler())\n",
        "losses = tf.keras.losses.SparseCategoricalCrossentropy(from_logits=False)\n",
        "metrics = ['accuracy']\n",
        "model.compile(optimizer=optim,\n",
        "                       loss = losses,\n",
        "                       metrics = metrics\n",
        "                       )\n",
        "model.summary()"
      ],
      "metadata": {
        "colab": {
          "base_uri": "https://localhost:8080/"
        },
        "id": "w6j7UbbMmki2",
        "outputId": "2c9fad56-f37e-4228-999b-c36f172e8660"
      },
      "execution_count": null,
      "outputs": [
        {
          "output_type": "stream",
          "name": "stdout",
          "text": [
            "Model: \"cifar_cnn_6\"\n",
            "_________________________________________________________________\n",
            " Layer (type)                Output Shape              Param #   \n",
            "=================================================================\n",
            " conv2d_60 (Conv2D)          multiple                  896       \n",
            "                                                                 \n",
            " batch_normalization_60 (Bat  multiple                 128       \n",
            " chNormalization)                                                \n",
            "                                                                 \n",
            " conv2d_61 (Conv2D)          multiple                  9248      \n",
            "                                                                 \n",
            " batch_normalization_61 (Bat  multiple                 128       \n",
            " chNormalization)                                                \n",
            "                                                                 \n",
            " max_pooling2d_29 (MaxPoolin  multiple                 0         \n",
            " g2D)                                                            \n",
            "                                                                 \n",
            " dropout_30 (Dropout)        multiple                  0         \n",
            "                                                                 \n",
            " conv2d_62 (Conv2D)          multiple                  18496     \n",
            "                                                                 \n",
            " batch_normalization_62 (Bat  multiple                 256       \n",
            " chNormalization)                                                \n",
            "                                                                 \n",
            " conv2d_63 (Conv2D)          multiple                  36928     \n",
            "                                                                 \n",
            " batch_normalization_63 (Bat  multiple                 256       \n",
            " chNormalization)                                                \n",
            "                                                                 \n",
            " max_pooling2d_30 (MaxPoolin  multiple                 0         \n",
            " g2D)                                                            \n",
            "                                                                 \n",
            " dropout_31 (Dropout)        multiple                  0         \n",
            "                                                                 \n",
            " conv2d_64 (Conv2D)          multiple                  73856     \n",
            "                                                                 \n",
            " batch_normalization_64 (Bat  multiple                 512       \n",
            " chNormalization)                                                \n",
            "                                                                 \n",
            " conv2d_65 (Conv2D)          multiple                  147584    \n",
            "                                                                 \n",
            " batch_normalization_65 (Bat  multiple                 512       \n",
            " chNormalization)                                                \n",
            "                                                                 \n",
            " max_pooling2d_31 (MaxPoolin  multiple                 0         \n",
            " g2D)                                                            \n",
            "                                                                 \n",
            " dropout_32 (Dropout)        multiple                  0         \n",
            "                                                                 \n",
            " conv2d_66 (Conv2D)          multiple                  295168    \n",
            "                                                                 \n",
            " batch_normalization_66 (Bat  multiple                 1024      \n",
            " chNormalization)                                                \n",
            "                                                                 \n",
            " conv2d_67 (Conv2D)          multiple                  590080    \n",
            "                                                                 \n",
            " batch_normalization_67 (Bat  multiple                 1024      \n",
            " chNormalization)                                                \n",
            "                                                                 \n",
            " max_pooling2d_32 (MaxPoolin  multiple                 0         \n",
            " g2D)                                                            \n",
            "                                                                 \n",
            " flatten_7 (Flatten)         multiple                  0         \n",
            "                                                                 \n",
            " dense_13 (Dense)            multiple                  131200    \n",
            "                                                                 \n",
            " dropout_34 (Dropout)        multiple                  0         \n",
            "                                                                 \n",
            " dense_14 (Dense)            multiple                  1290      \n",
            "                                                                 \n",
            "=================================================================\n",
            "Total params: 1,308,586\n",
            "Trainable params: 1,306,666\n",
            "Non-trainable params: 1,920\n",
            "_________________________________________________________________\n"
          ]
        }
      ]
    },
    {
      "cell_type": "markdown",
      "source": [
        "## Fit the training data"
      ],
      "metadata": {
        "id": "OXxZ2WyJBxlk"
      }
    },
    {
      "cell_type": "code",
      "source": [
        "hist = model.fit(x=ds_train, epochs=50)"
      ],
      "metadata": {
        "colab": {
          "base_uri": "https://localhost:8080/"
        },
        "id": "J8_GKKqmrRJg",
        "outputId": "d1f4df79-f410-43d7-b0d8-5234bfed6c34"
      },
      "execution_count": null,
      "outputs": [
        {
          "output_type": "stream",
          "name": "stdout",
          "text": [
            "Epoch 1/50\n",
            "391/391 [==============================] - 43s 106ms/step - loss: 2.5384 - accuracy: 0.1956\n",
            "Epoch 2/50\n",
            "391/391 [==============================] - 35s 90ms/step - loss: 1.8831 - accuracy: 0.3281\n",
            "Epoch 3/50\n",
            "391/391 [==============================] - 35s 90ms/step - loss: 1.6868 - accuracy: 0.4126\n",
            "Epoch 4/50\n",
            "391/391 [==============================] - 36s 91ms/step - loss: 1.5677 - accuracy: 0.4761\n",
            "Epoch 5/50\n",
            "391/391 [==============================] - 36s 91ms/step - loss: 1.4770 - accuracy: 0.5309\n",
            "Epoch 6/50\n",
            "391/391 [==============================] - 36s 91ms/step - loss: 1.4068 - accuracy: 0.5755\n",
            "Epoch 7/50\n",
            "391/391 [==============================] - 38s 96ms/step - loss: 1.3444 - accuracy: 0.6155\n",
            "Epoch 8/50\n",
            "391/391 [==============================] - 36s 92ms/step - loss: 1.3414 - accuracy: 0.6366\n",
            "Epoch 9/50\n",
            "391/391 [==============================] - 36s 91ms/step - loss: 1.3884 - accuracy: 0.6482\n",
            "Epoch 10/50\n",
            "391/391 [==============================] - 35s 90ms/step - loss: 1.4852 - accuracy: 0.6437\n",
            "Epoch 11/50\n",
            "391/391 [==============================] - 36s 91ms/step - loss: 1.5471 - accuracy: 0.6476\n",
            "Epoch 12/50\n",
            "391/391 [==============================] - 36s 91ms/step - loss: 1.5805 - accuracy: 0.6452\n",
            "Epoch 13/50\n",
            "391/391 [==============================] - 35s 90ms/step - loss: 1.5807 - accuracy: 0.6502\n",
            "Epoch 14/50\n",
            "391/391 [==============================] - 36s 91ms/step - loss: 1.5748 - accuracy: 0.6585\n",
            "Epoch 15/50\n",
            "391/391 [==============================] - 37s 96ms/step - loss: 1.5863 - accuracy: 0.6560\n",
            "Epoch 16/50\n",
            "391/391 [==============================] - 36s 91ms/step - loss: 1.5528 - accuracy: 0.6642\n",
            "Epoch 17/50\n",
            "391/391 [==============================] - 36s 92ms/step - loss: 1.5432 - accuracy: 0.6644\n",
            "Epoch 18/50\n",
            "391/391 [==============================] - 36s 91ms/step - loss: 1.5150 - accuracy: 0.6712\n",
            "Epoch 19/50\n",
            "391/391 [==============================] - 36s 92ms/step - loss: 1.4706 - accuracy: 0.6840\n",
            "Epoch 20/50\n",
            "391/391 [==============================] - 35s 90ms/step - loss: 1.4420 - accuracy: 0.6867\n",
            "Epoch 21/50\n",
            "391/391 [==============================] - 36s 92ms/step - loss: 1.4024 - accuracy: 0.6962\n",
            "Epoch 22/50\n",
            "391/391 [==============================] - 35s 91ms/step - loss: 1.3509 - accuracy: 0.7058\n",
            "Epoch 23/50\n",
            "391/391 [==============================] - 38s 97ms/step - loss: 1.3136 - accuracy: 0.7135\n",
            "Epoch 24/50\n",
            "391/391 [==============================] - 35s 91ms/step - loss: 1.2650 - accuracy: 0.7198\n",
            "Epoch 25/50\n",
            "391/391 [==============================] - 36s 91ms/step - loss: 1.2254 - accuracy: 0.7252\n",
            "Epoch 26/50\n",
            "391/391 [==============================] - 35s 90ms/step - loss: 1.1792 - accuracy: 0.7354\n",
            "Epoch 27/50\n",
            "391/391 [==============================] - 35s 90ms/step - loss: 1.1348 - accuracy: 0.7442\n",
            "Epoch 28/50\n",
            "391/391 [==============================] - 35s 90ms/step - loss: 1.0839 - accuracy: 0.7545\n",
            "Epoch 29/50\n",
            "391/391 [==============================] - 35s 90ms/step - loss: 1.0372 - accuracy: 0.7639\n",
            "Epoch 30/50\n",
            "391/391 [==============================] - 37s 95ms/step - loss: 0.9907 - accuracy: 0.7729\n",
            "Epoch 31/50\n",
            "391/391 [==============================] - 36s 91ms/step - loss: 0.9479 - accuracy: 0.7781\n",
            "Epoch 32/50\n",
            "391/391 [==============================] - 36s 91ms/step - loss: 0.8881 - accuracy: 0.7938\n",
            "Epoch 33/50\n",
            "391/391 [==============================] - 36s 91ms/step - loss: 0.8467 - accuracy: 0.8012\n",
            "Epoch 34/50\n",
            "391/391 [==============================] - 35s 90ms/step - loss: 0.8010 - accuracy: 0.8132\n",
            "Epoch 35/50\n",
            "391/391 [==============================] - 35s 90ms/step - loss: 0.7647 - accuracy: 0.8246\n",
            "Epoch 36/50\n",
            "391/391 [==============================] - 35s 90ms/step - loss: 0.7562 - accuracy: 0.8247\n",
            "Epoch 37/50\n",
            "391/391 [==============================] - 35s 91ms/step - loss: 0.7608 - accuracy: 0.8230\n",
            "Epoch 38/50\n",
            "391/391 [==============================] - 37s 95ms/step - loss: 0.7574 - accuracy: 0.8225\n",
            "Epoch 39/50\n",
            "391/391 [==============================] - 35s 89ms/step - loss: 0.7545 - accuracy: 0.8257\n",
            "Epoch 40/50\n",
            "391/391 [==============================] - 36s 91ms/step - loss: 0.7570 - accuracy: 0.8249\n",
            "Epoch 41/50\n",
            "391/391 [==============================] - 35s 90ms/step - loss: 0.7528 - accuracy: 0.8284\n",
            "Epoch 42/50\n",
            "391/391 [==============================] - 35s 90ms/step - loss: 0.7548 - accuracy: 0.8259\n",
            "Epoch 43/50\n",
            "391/391 [==============================] - 35s 89ms/step - loss: 0.7514 - accuracy: 0.8262\n",
            "Epoch 44/50\n",
            "391/391 [==============================] - 35s 90ms/step - loss: 0.7530 - accuracy: 0.8265\n",
            "Epoch 45/50\n",
            "391/391 [==============================] - 38s 97ms/step - loss: 0.7526 - accuracy: 0.8255\n",
            "Epoch 46/50\n",
            "391/391 [==============================] - 36s 91ms/step - loss: 0.7571 - accuracy: 0.8257\n",
            "Epoch 47/50\n",
            "391/391 [==============================] - 36s 91ms/step - loss: 0.7586 - accuracy: 0.8242\n",
            "Epoch 48/50\n",
            "391/391 [==============================] - 35s 90ms/step - loss: 0.7582 - accuracy: 0.8251\n",
            "Epoch 49/50\n",
            "391/391 [==============================] - 35s 90ms/step - loss: 0.7565 - accuracy: 0.8252\n",
            "Epoch 50/50\n",
            "391/391 [==============================] - 35s 90ms/step - loss: 0.7585 - accuracy: 0.8239\n"
          ]
        }
      ]
    },
    {
      "cell_type": "markdown",
      "source": [
        "## Loss vs. Epochs graph"
      ],
      "metadata": {
        "id": "C4CG_n4IB0PP"
      }
    },
    {
      "cell_type": "code",
      "source": [
        "fig, ax = plt.subplots(1, 1, dpi=100)\n",
        "ax.plot(hist.history['loss'])\n",
        "plt.show()"
      ],
      "metadata": {
        "colab": {
          "base_uri": "https://localhost:8080/",
          "height": 362
        },
        "id": "qp9Iuaja4SzF",
        "outputId": "a9626b17-b21b-43e7-ace0-09f915b7dd68"
      },
      "execution_count": null,
      "outputs": [
        {
          "output_type": "display_data",
          "data": {
            "text/plain": [
              "<Figure size 600x400 with 1 Axes>"
            ],
            "image/png": "[encoded data removed]"
          },
          "metadata": {
            "needs_background": "light"
          }
        }
      ]
    },
    {
      "cell_type": "markdown",
      "source": [
        "The graph shows an increase in the value of loss at the end of the warmup period which probably indicates a large learning rate. The linear decay fixes the problem."
      ],
      "metadata": {
        "id": "3z6WATgqB_hq"
      }
    },
    {
      "cell_type": "markdown",
      "source": [
        "## Evaluate of test data"
      ],
      "metadata": {
        "id": "V_j1MCONCWWi"
      }
    },
    {
      "cell_type": "code",
      "source": [
        "model.evaluate(x=ds_test)"
      ],
      "metadata": {
        "colab": {
          "base_uri": "https://localhost:8080/"
        },
        "id": "K7Ki7ZAo6xd9",
        "outputId": "7e28b37f-8399-4923-afc0-4d55c9336695"
      },
      "execution_count": null,
      "outputs": [
        {
          "output_type": "stream",
          "name": "stdout",
          "text": [
            "79/79 [==============================] - 2s 19ms/step - loss: 0.6048 - accuracy: 0.8702\n"
          ]
        },
        {
          "output_type": "execute_result",
          "data": {
            "text/plain": [
              "[0.6048139929771423, 0.870199978351593]"
            ]
          },
          "metadata": {},
          "execution_count": 68
        }
      ]
    },
    {
      "cell_type": "markdown",
      "source": [
        "87\\% test accuracy. Not too bad..."
      ],
      "metadata": {
        "id": "D6sj3jy5CY1A"
      }
    },
    {
      "cell_type": "markdown",
      "source": [
        "## Resnet Architecture\n",
        "Investigate the effect of residual connections on the performance of our network"
      ],
      "metadata": {
        "id": "eG8alfyzCgS0"
      }
    },
    {
      "cell_type": "code",
      "source": [
        "class Resblock(tf.keras.layers.Layer):\n",
        "  def __init__(self, n_filters, kernel_size=3, strides=1):\n",
        "    super(Resblock, self).__init__()\n",
        "    self.c1 = tf.keras.layers.Conv2D(filters=n_filters, kernel_size=kernel_size, strides=strides, padding='same', activation=None)\n",
        "    self.bn1 = tf.keras.layers.BatchNormalization()\n",
        "    self.activation = tf.keras.layers.ReLU()\n",
        "  \n",
        "  def call(self, input_):\n",
        "    x = self.c1(input_)\n",
        "    x = self.bn1(x)\n",
        "    x = self.activation(x)\n",
        "    return x  "
      ],
      "metadata": {
        "id": "Tl_QJg8LVKby"
      },
      "execution_count": null,
      "outputs": []
    },
    {
      "cell_type": "code",
      "source": [
        "class Reslayer(tf.keras.layers.Layer):\n",
        "  def __init__(self, n_filters, kernel_size=3, strides=1):\n",
        "    super(Reslayer, self).__init__()\n",
        "    self.c1 = tf.keras.layers.Conv2D(filters=n_filters, kernel_size=kernel_size, strides=strides, padding='same', activation=None)\n",
        "    self.bn1 = tf.keras.layers.BatchNormalization()\n",
        "    self.a1 = tf.keras.layers.ReLU()\n",
        "    self.mp1 = tf.keras.layers.MaxPooling2D(pool_size=2)\n",
        "    self.res1 = Resblock(n_filters, kernel_size, strides)\n",
        "    self.res2 = Resblock(n_filters, kernel_size, strides)\n",
        "    self.add = tf.keras.layers.Add()\n",
        "  \n",
        "  def call(self, input_):\n",
        "    x = self.c1(input_)\n",
        "    x = self.bn1(x)\n",
        "    x = self.a1(x)\n",
        "    x = self.mp1(x)\n",
        "    y = self.res1(x)\n",
        "    y = self.res2(y)\n",
        "    x = self.add([x, y])\n",
        "    return x  "
      ],
      "metadata": {
        "id": "rYsRfPu_XPPk"
      },
      "execution_count": null,
      "outputs": []
    },
    {
      "cell_type": "markdown",
      "source": [
        "## The new architecture\n",
        "This is based on the architecture used [here](https://github.com/fenwickslab/fenwicks/blob/master/tutorials/tutorial2_cifar10.ipynb) but not exactly the same."
      ],
      "metadata": {
        "id": "aSV021-gCtXA"
      }
    },
    {
      "cell_type": "code",
      "source": [
        "class CIFAR_ResNet(tf.keras.Model):\n",
        "  def __init__(self):\n",
        "    super(CIFAR_ResNet, self).__init__()\n",
        "    # prep\n",
        "    self.c1 = tf.keras.layers.Conv2D(filters=64, kernel_size=3, strides=1, padding='same', activation=None)\n",
        "    self.bn1 = tf.keras.layers.BatchNormalization()\n",
        "    self.a1 = tf.keras.layers.ReLU()\n",
        "\n",
        "    # layer 1\n",
        "    self.reslayer1 = Reslayer(128, 3, 1)\n",
        "\n",
        "    # layer 2\n",
        "    self.c2 = tf.keras.layers.Conv2D(filters=256, kernel_size=3, strides=1, padding='same', activation=None)\n",
        "    self.bn2 = tf.keras.layers.BatchNormalization()\n",
        "    self.a2 = tf.keras.layers.ReLU()\n",
        "    self.mp2 = tf.keras.layers.MaxPooling2D(2)\n",
        "\n",
        "    # layer 3\n",
        "    self.reslayer2 = Reslayer(512, 3, 1)\n",
        "\n",
        "    # layer 4\n",
        "    self.c3 = tf.keras.layers.Conv2D(filters=512, kernel_size=3, strides=1, padding='same', activation=None)\n",
        "    self.bn3 = tf.keras.layers.BatchNormalization()\n",
        "    self.a3 = tf.keras.layers.ReLU()\n",
        "    self.mp3 = tf.keras.layers.MaxPooling2D(2)\n",
        "\n",
        "    # layer 5\n",
        "    self.reslayer3 = Reslayer(512, 3, 1)\n",
        "\n",
        "    # classifier\n",
        "    self.mpc = tf.keras.layers.GlobalMaxPool2D()\n",
        "    self.flatten = tf.keras.layers.Flatten()\n",
        "    self.fc = tf.keras.layers.Dense(10, activation='softmax')\n",
        "\n",
        "  \n",
        "  def call(self, input_):\n",
        "    x = self.c1(input_)\n",
        "    x = self.bn1(x)\n",
        "    x = self.a1(x)\n",
        "\n",
        "    x = self.reslayer1(x)\n",
        "\n",
        "    x = self.c2(x)\n",
        "    x = self.bn2(x)\n",
        "    x = self.a2(x)\n",
        "    x = self.mp2(x)\n",
        "\n",
        "    x = self.reslayer2(x)\n",
        "\n",
        "    x = self.c3(x)\n",
        "    x = self.bn3(x)\n",
        "    x = self.a3(x)\n",
        "    x = self.mp3(x)\n",
        "\n",
        "    x = self.reslayer3(x)\n",
        "\n",
        "    x = self.mpc(x)\n",
        "    x = self.flatten(x)\n",
        "    x = self.fc(x)\n",
        "    \n",
        "    return x"
      ],
      "metadata": {
        "id": "rCpKsR8yCTNi"
      },
      "execution_count": null,
      "outputs": []
    },
    {
      "cell_type": "markdown",
      "source": [
        "## Learning rate scheduler\n",
        "Similar to the previous one: Warmup + linear decay"
      ],
      "metadata": {
        "id": "3zZxOZjADDCf"
      }
    },
    {
      "cell_type": "code",
      "source": [
        "class MyScheduler(tf.keras.optimizers.schedules.LearningRateSchedule):\n",
        "\n",
        "  def __init__(self):\n",
        "    self.initial_learning_rate = LEARNING_RATE/BATCH_SIZE\n",
        "\n",
        "  def __call__(self, step):\n",
        "    warmup_steps = steps_per_epoch * WARMUP\n",
        "    is_warmup = tf.cast(step < warmup_steps, tf.float32)\n",
        "    decay_lr = tf.keras.optimizers.schedules.PolynomialDecay(LEARNING_RATE/BATCH_SIZE, (total_steps-(steps_per_epoch * WARMUP)), end_learning_rate=0.0, power=1, cycle=False)(step-(steps_per_epoch * WARMUP))\n",
        "    warmup_lr = self.initial_learning_rate * step / warmup_steps\n",
        "    return (1.0 - is_warmup) * decay_lr + is_warmup * warmup_lr"
      ],
      "metadata": {
        "id": "qoyD8dPqA7Kt"
      },
      "execution_count": null,
      "outputs": []
    },
    {
      "cell_type": "code",
      "source": [
        "xs = list(range(total_steps))\n",
        "ys = [MyScheduler()(i) for i in xs]\n",
        "plt.plot(xs, ys)"
      ],
      "metadata": {
        "colab": {
          "base_uri": "https://localhost:8080/",
          "height": 282
        },
        "id": "xBDxRLPCA-qj",
        "outputId": "797b3916-a4ec-4e7d-db47-672b9ea67a6c"
      },
      "execution_count": null,
      "outputs": [
        {
          "output_type": "execute_result",
          "data": {
            "text/plain": [
              "[<matplotlib.lines.Line2D at 0x7f479a5406d0>]"
            ]
          },
          "metadata": {},
          "execution_count": 34
        },
        {
          "output_type": "display_data",
          "data": {
            "text/plain": [
              "<Figure size 432x288 with 1 Axes>"
            ],
            "image/png": "[encoded data removed]"
          },
          "metadata": {
            "needs_background": "light"
          }
        }
      ]
    },
    {
      "cell_type": "markdown",
      "source": [
        "## Define the model\n",
        "This time we are using `SGD` instead of `Adam`. Everything else is the same."
      ],
      "metadata": {
        "id": "vvbcMIeODLMX"
      }
    },
    {
      "cell_type": "code",
      "source": [
        "model = CIFAR_ResNet()\n",
        "for test_data in ds_train:\n",
        "  images, labels = test_data\n",
        "  run_through = model(images[0:1])\n",
        "  break\n",
        "#optim = tf.keras.optimizers.Adam(learning_rate=0.001)\n",
        "optim = tf.keras.optimizers.SGD(learning_rate=MyScheduler(), momentum=0.9, nesterov=True, decay = WEIGHT_DECAY*BATCH_SIZE)\n",
        "losses = tf.keras.losses.SparseCategoricalCrossentropy(from_logits=False)\n",
        "metrics = ['accuracy']\n",
        "\n",
        "model.compile(optimizer=optim,\n",
        "                       loss = losses,\n",
        "                       metrics = metrics\n",
        "                       )\n",
        "model.summary()"
      ],
      "metadata": {
        "colab": {
          "base_uri": "https://localhost:8080/"
        },
        "id": "SHeewl8nbcG4",
        "outputId": "d3dcd427-bc7c-4138-8915-b05417bd6e03"
      },
      "execution_count": null,
      "outputs": [
        {
          "output_type": "stream",
          "name": "stdout",
          "text": [
            "Model: \"cifar__res_net\"\n",
            "_________________________________________________________________\n",
            " Layer (type)                Output Shape              Param #   \n",
            "=================================================================\n",
            " conv2d_32 (Conv2D)          multiple                  1792      \n",
            "                                                                 \n",
            " batch_normalization_32 (Bat  multiple                 256       \n",
            " chNormalization)                                                \n",
            "                                                                 \n",
            " re_lu (ReLU)                multiple                  0         \n",
            "                                                                 \n",
            " reslayer (Reslayer)         multiple                  370560    \n",
            "                                                                 \n",
            " conv2d_36 (Conv2D)          multiple                  295168    \n",
            "                                                                 \n",
            " batch_normalization_36 (Bat  multiple                 1024      \n",
            " chNormalization)                                                \n",
            "                                                                 \n",
            " re_lu_4 (ReLU)              multiple                  0         \n",
            "                                                                 \n",
            " max_pooling2d_17 (MaxPoolin  multiple                 0         \n",
            " g2D)                                                            \n",
            "                                                                 \n",
            " reslayer_1 (Reslayer)       multiple                  5905920   \n",
            "                                                                 \n",
            " conv2d_40 (Conv2D)          multiple                  2359808   \n",
            "                                                                 \n",
            " batch_normalization_40 (Bat  multiple                 2048      \n",
            " chNormalization)                                                \n",
            "                                                                 \n",
            " re_lu_8 (ReLU)              multiple                  0         \n",
            "                                                                 \n",
            " max_pooling2d_19 (MaxPoolin  multiple                 0         \n",
            " g2D)                                                            \n",
            "                                                                 \n",
            " reslayer_2 (Reslayer)       multiple                  7085568   \n",
            "                                                                 \n",
            " global_max_pooling2d (Globa  multiple                 0         \n",
            " lMaxPooling2D)                                                  \n",
            "                                                                 \n",
            " flatten_4 (Flatten)         multiple                  0         \n",
            "                                                                 \n",
            " dense_8 (Dense)             multiple                  5130      \n",
            "                                                                 \n",
            "=================================================================\n",
            "Total params: 16,027,274\n",
            "Trainable params: 16,018,698\n",
            "Non-trainable params: 8,576\n",
            "_________________________________________________________________\n"
          ]
        }
      ]
    },
    {
      "cell_type": "markdown",
      "source": [
        "## Fit to training data"
      ],
      "metadata": {
        "id": "_fmywCrvDbIn"
      }
    },
    {
      "cell_type": "code",
      "source": [
        "hist = model.fit(x=ds_train, epochs=EPOCHS)"
      ],
      "metadata": {
        "colab": {
          "base_uri": "https://localhost:8080/"
        },
        "id": "HxiP6ICWblD1",
        "outputId": "9ae9e805-6a25-435f-d3d1-1003c855abf0"
      },
      "execution_count": null,
      "outputs": [
        {
          "output_type": "stream",
          "name": "stdout",
          "text": [
            "Epoch 1/35\n",
            "391/391 [==============================] - 58s 142ms/step - loss: 1.6141 - accuracy: 0.4526\n",
            "Epoch 2/35\n",
            "391/391 [==============================] - 53s 135ms/step - loss: 1.0419 - accuracy: 0.6323\n",
            "Epoch 3/35\n",
            "391/391 [==============================] - 53s 135ms/step - loss: 0.8372 - accuracy: 0.7054\n",
            "Epoch 4/35\n",
            "391/391 [==============================] - 53s 135ms/step - loss: 0.7289 - accuracy: 0.7456\n",
            "Epoch 5/35\n",
            "391/391 [==============================] - 53s 134ms/step - loss: 0.6448 - accuracy: 0.7748\n",
            "Epoch 6/35\n",
            "391/391 [==============================] - 54s 138ms/step - loss: 0.5891 - accuracy: 0.7945\n",
            "Epoch 7/35\n",
            "391/391 [==============================] - 53s 136ms/step - loss: 0.5464 - accuracy: 0.8108\n",
            "Epoch 8/35\n",
            "391/391 [==============================] - 52s 134ms/step - loss: 0.5070 - accuracy: 0.8239\n",
            "Epoch 9/35\n",
            "391/391 [==============================] - 52s 133ms/step - loss: 0.4713 - accuracy: 0.8360\n",
            "Epoch 10/35\n",
            "391/391 [==============================] - 54s 137ms/step - loss: 0.4441 - accuracy: 0.8458\n",
            "Epoch 11/35\n",
            "391/391 [==============================] - 53s 135ms/step - loss: 0.4083 - accuracy: 0.8582\n",
            "Epoch 12/35\n",
            "391/391 [==============================] - 53s 135ms/step - loss: 0.3756 - accuracy: 0.8682\n",
            "Epoch 13/35\n",
            "391/391 [==============================] - 53s 134ms/step - loss: 0.3450 - accuracy: 0.8786\n",
            "Epoch 14/35\n",
            "391/391 [==============================] - 52s 133ms/step - loss: 0.3165 - accuracy: 0.8901\n",
            "Epoch 15/35\n",
            "391/391 [==============================] - 54s 137ms/step - loss: 0.2941 - accuracy: 0.8955\n",
            "Epoch 16/35\n",
            "391/391 [==============================] - 53s 135ms/step - loss: 0.2721 - accuracy: 0.9043\n",
            "Epoch 17/35\n",
            "391/391 [==============================] - 53s 135ms/step - loss: 0.2538 - accuracy: 0.9118\n",
            "Epoch 18/35\n",
            "391/391 [==============================] - 53s 135ms/step - loss: 0.2420 - accuracy: 0.9153\n",
            "Epoch 19/35\n",
            "391/391 [==============================] - 55s 139ms/step - loss: 0.2214 - accuracy: 0.9223\n",
            "Epoch 20/35\n",
            "391/391 [==============================] - 53s 135ms/step - loss: 0.2108 - accuracy: 0.9259\n",
            "Epoch 21/35\n",
            "391/391 [==============================] - 53s 136ms/step - loss: 0.1980 - accuracy: 0.9291\n",
            "Epoch 22/35\n",
            "391/391 [==============================] - 53s 135ms/step - loss: 0.1834 - accuracy: 0.9352\n",
            "Epoch 23/35\n",
            "391/391 [==============================] - 53s 135ms/step - loss: 0.1732 - accuracy: 0.9386\n",
            "Epoch 24/35\n",
            "391/391 [==============================] - 53s 135ms/step - loss: 0.1660 - accuracy: 0.9402\n",
            "Epoch 25/35\n",
            "391/391 [==============================] - 54s 138ms/step - loss: 0.1563 - accuracy: 0.9448\n",
            "Epoch 26/35\n",
            "391/391 [==============================] - 53s 135ms/step - loss: 0.1463 - accuracy: 0.9489\n",
            "Epoch 27/35\n",
            "391/391 [==============================] - 52s 134ms/step - loss: 0.1434 - accuracy: 0.9491\n",
            "Epoch 28/35\n",
            "391/391 [==============================] - 53s 135ms/step - loss: 0.1346 - accuracy: 0.9529\n",
            "Epoch 29/35\n",
            "391/391 [==============================] - 54s 137ms/step - loss: 0.1264 - accuracy: 0.9559\n",
            "Epoch 30/35\n",
            "391/391 [==============================] - 53s 136ms/step - loss: 0.1191 - accuracy: 0.9582\n",
            "Epoch 31/35\n",
            "391/391 [==============================] - 53s 135ms/step - loss: 0.1195 - accuracy: 0.9577\n",
            "Epoch 32/35\n",
            "391/391 [==============================] - 54s 137ms/step - loss: 0.1133 - accuracy: 0.9611\n",
            "Epoch 33/35\n",
            "391/391 [==============================] - 53s 136ms/step - loss: 0.1094 - accuracy: 0.9614\n",
            "Epoch 34/35\n",
            "391/391 [==============================] - 53s 135ms/step - loss: 0.1108 - accuracy: 0.9609\n",
            "Epoch 35/35\n",
            "391/391 [==============================] - 53s 135ms/step - loss: 0.1070 - accuracy: 0.9634\n"
          ]
        }
      ]
    },
    {
      "cell_type": "markdown",
      "source": [
        "## Loss vs. Epoch graph"
      ],
      "metadata": {
        "id": "odxJmS4ZDeUH"
      }
    },
    {
      "cell_type": "code",
      "source": [
        "fig, ax = plt.subplots(1, 1, dpi=100)\n",
        "ax.plot(hist.history['loss'])\n",
        "plt.show()"
      ],
      "metadata": {
        "colab": {
          "base_uri": "https://localhost:8080/",
          "height": 362
        },
        "id": "mVkzsz7RcFYC",
        "outputId": "2d6599ee-ac58-4d72-d95d-0b6d7749dfdb"
      },
      "execution_count": null,
      "outputs": [
        {
          "output_type": "display_data",
          "data": {
            "text/plain": [
              "<Figure size 600x400 with 1 Axes>"
            ],
            "image/png": "[encoded data removed]"
          },
          "metadata": {
            "needs_background": "light"
          }
        }
      ]
    },
    {
      "cell_type": "markdown",
      "source": [
        "Smooth and plateu-ing. Cool."
      ],
      "metadata": {
        "id": "Zd79iwzADhw9"
      }
    },
    {
      "cell_type": "markdown",
      "source": [
        "## Evaluate of test data"
      ],
      "metadata": {
        "id": "JG7rU8WADnGC"
      }
    },
    {
      "cell_type": "code",
      "source": [
        "model.evaluate(x=ds_test)"
      ],
      "metadata": {
        "colab": {
          "base_uri": "https://localhost:8080/"
        },
        "id": "p-DdRbzYbvrS",
        "outputId": "57f35f8c-dc45-4fa0-8f99-b36be80b97ee"
      },
      "execution_count": null,
      "outputs": [
        {
          "output_type": "stream",
          "name": "stdout",
          "text": [
            "79/79 [==============================] - 3s 28ms/step - loss: 0.3009 - accuracy: 0.9120\n"
          ]
        },
        {
          "output_type": "execute_result",
          "data": {
            "text/plain": [
              "[0.3009231686592102, 0.9120000004768372]"
            ]
          },
          "metadata": {},
          "execution_count": 38
        }
      ]
    },
    {
      "cell_type": "markdown",
      "source": [
        "91\\% test accuracy! Pretty good!"
      ],
      "metadata": {
        "id": "YkpbUu91DpLU"
      }
    }
  ]
}